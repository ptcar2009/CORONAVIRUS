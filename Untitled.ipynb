{
 "cells": [
  {
   "cell_type": "code",
   "execution_count": 3,
   "metadata": {},
   "outputs": [
    {
     "name": "stdout",
     "output_type": "stream",
     "text": [
      "'Add a heading(1).zip'\r\n",
      "'Add a heading(2).zip'\r\n",
      "'Add a heading.png'\r\n",
      "'Add a heading.zip'\r\n",
      " alg1\r\n",
      " alg1.zip\r\n",
      " arcolinux-v20.2.12.iso\r\n",
      " balenaEtcher-1.5.79-x64.AppImage\r\n",
      " balena-etcher-electron-1.5.79-linux-x64.zip\r\n",
      " code_1.42.1-1581432938_amd64.deb\r\n",
      " CSV\r\n",
      " dbeaver-ce-7.0.0-stable.x86_64.rpm\r\n",
      " Export-1d7492dd-fc0c-4b60-bee3-a087a55dd262.zip\r\n",
      " Export-cca88cb9-9c3d-4456-b917-11af319a5bd5.zip\r\n",
      "'full_data(1).csv'\r\n",
      " full_data.csv\r\n",
      " full_data.csv.1\r\n",
      " insta\r\n",
      "'Screen Shot 2020-02-28 at 02.19.27.png'\r\n",
      " Untitled.ipynb\r\n",
      "'WhatsApp Image 2020-03-19 at 00.42.37(1).jpeg'\r\n",
      "'WhatsApp Image 2020-03-19 at 00.42.37.jpeg'\r\n"
     ]
    }
   ],
   "source": [
    "!ls"
   ]
  },
  {
   "cell_type": "code",
   "execution_count": 4,
   "metadata": {},
   "outputs": [],
   "source": [
    "import pandas as pd\n",
    "import matplotlib.pyplot as plt"
   ]
  },
  {
   "cell_type": "code",
   "execution_count": 5,
   "metadata": {},
   "outputs": [
    {
     "data": {
      "text/plain": [
       "['Solarize_Light2',\n",
       " '_classic_test_patch',\n",
       " 'bmh',\n",
       " 'classic',\n",
       " 'dark_background',\n",
       " 'fast',\n",
       " 'fivethirtyeight',\n",
       " 'ggplot',\n",
       " 'grayscale',\n",
       " 'seaborn',\n",
       " 'seaborn-bright',\n",
       " 'seaborn-colorblind',\n",
       " 'seaborn-dark',\n",
       " 'seaborn-dark-palette',\n",
       " 'seaborn-darkgrid',\n",
       " 'seaborn-deep',\n",
       " 'seaborn-muted',\n",
       " 'seaborn-notebook',\n",
       " 'seaborn-paper',\n",
       " 'seaborn-pastel',\n",
       " 'seaborn-poster',\n",
       " 'seaborn-talk',\n",
       " 'seaborn-ticks',\n",
       " 'seaborn-white',\n",
       " 'seaborn-whitegrid',\n",
       " 'tableau-colorblind10']"
      ]
     },
     "execution_count": 5,
     "metadata": {},
     "output_type": "execute_result"
    }
   ],
   "source": [
    "plt.style.available"
   ]
  },
  {
   "cell_type": "code",
   "execution_count": 6,
   "metadata": {},
   "outputs": [],
   "source": [
    "plt.style.use('ggplot')"
   ]
  },
  {
   "cell_type": "code",
   "execution_count": 23,
   "metadata": {},
   "outputs": [
    {
     "name": "stdout",
     "output_type": "stream",
     "text": [
      "--2020-03-23 11:11:02--  https://covid.ourworldindata.org/data/ecdc/full_data.csv\n",
      "Loaded CA certificate '/etc/ssl/certs/ca-certificates.crt'\n",
      "Resolving covid.ourworldindata.org (covid.ourworldindata.org)... 2600:1f1e:c3c:f300:52c7:5c11:9783:e057, 18.230.52.212\n",
      "Connecting to covid.ourworldindata.org (covid.ourworldindata.org)|2600:1f1e:c3c:f300:52c7:5c11:9783:e057|:443... connected.\n",
      "HTTP request sent, awaiting response... 200 OK\n",
      "Length: 186560 (182K) [text/csv]\n",
      "Saving to: ‘corona.csv’\n",
      "\n",
      "corona.csv          100%[===================>] 182,19K  --.-KB/s    in 0,1s    \n",
      "\n",
      "2020-03-23 11:11:03 (1,54 MB/s) - ‘corona.csv’ saved [186560/186560]\n",
      "\n"
     ]
    }
   ],
   "source": [
    "!wget -O corona.csv https://covid.ourworldindata.org/data/ecdc/full_data.csv"
   ]
  },
  {
   "cell_type": "code",
   "execution_count": 24,
   "metadata": {},
   "outputs": [],
   "source": [
    "df = pd.read_csv('corona.csv')"
   ]
  },
  {
   "cell_type": "code",
   "execution_count": 53,
   "metadata": {},
   "outputs": [
    {
     "name": "stderr",
     "output_type": "stream",
     "text": [
      "<ipython-input-53-fa219ca04b88>:2: RuntimeWarning: invalid value encountered in long_scalars\n",
      "  brazil_df[\"r_deaths\"] = [1] + [day[\"new_deaths\"]/brazil_df.iloc[row-1][\"new_deaths\"] for row, day in brazil_df.iloc[1:].iterrows()]\n",
      "<ipython-input-53-fa219ca04b88>:2: RuntimeWarning: divide by zero encountered in long_scalars\n",
      "  brazil_df[\"r_deaths\"] = [1] + [day[\"new_deaths\"]/brazil_df.iloc[row-1][\"new_deaths\"] for row, day in brazil_df.iloc[1:].iterrows()]\n",
      "<ipython-input-53-fa219ca04b88>:3: RuntimeWarning: invalid value encountered in long_scalars\n",
      "  brazil_df[\"r_cases\"] = [1] + [day[\"new_cases\"]/brazil_df.iloc[row-1][\"new_cases\"] for row, day in brazil_df.iloc[1:].iterrows()]\n",
      "<ipython-input-53-fa219ca04b88>:3: RuntimeWarning: divide by zero encountered in long_scalars\n",
      "  brazil_df[\"r_cases\"] = [1] + [day[\"new_cases\"]/brazil_df.iloc[row-1][\"new_cases\"] for row, day in brazil_df.iloc[1:].iterrows()]\n"
     ]
    }
   ],
   "source": [
    "brazil_df = df.groupby('location').filter(lambda x: (x['location'].any() in ['United States'])).reset_index().drop(\"index\", axis=1)\n",
    "brazil_df[\"r_deaths\"] = [1] + [day[\"new_deaths\"]/brazil_df.iloc[row-1][\"new_deaths\"] for row, day in brazil_df.iloc[1:].iterrows()]\n",
    "brazil_df[\"r_cases\"] = [1] + [day[\"new_cases\"]/brazil_df.iloc[row-1][\"new_cases\"] for row, day in brazil_df.iloc[1:].iterrows()]"
   ]
  },
  {
   "cell_type": "code",
   "execution_count": 56,
   "metadata": {},
   "outputs": [],
   "source": [
    "filtered_df = brazil_df.dropna().iloc[3:]"
   ]
  },
  {
   "cell_type": "code",
   "execution_count": 57,
   "metadata": {},
   "outputs": [
    {
     "data": {
      "text/plain": [
       "<matplotlib.axes._subplots.AxesSubplot at 0x7fa617d16c40>"
      ]
     },
     "execution_count": 57,
     "metadata": {},
     "output_type": "execute_result"
    },
    {
     "data": {
      "image/png": "[encoded data removed]",
      "text/plain": [
       "<Figure size 432x288 with 1 Axes>"
      ]
     },
     "metadata": {},
     "output_type": "display_data"
    }
   ],
   "source": [
    "    filtered_df.plot(x='date', y=['r_cases'])"
   ]
  },
  {
   "cell_type": "code",
   "execution_count": 16,
   "metadata": {},
   "outputs": [],
   "source": [
    "from scipy import stats\n",
    "import numpy as np"
   ]
  },
  {
   "cell_type": "code",
   "execution_count": 29,
   "metadata": {},
   "outputs": [],
   "source": [
    "z = np.abs(stats.zscore(brazil_df['r_cases']))"
   ]
  },
  {
   "cell_type": "code",
   "execution_count": 30,
   "metadata": {},
   "outputs": [
    {
     "data": {
      "text/plain": [
       "array([nan, nan, nan, nan, nan, nan, nan, nan, nan, nan, nan, nan, nan,\n",
       "       nan, nan, nan, nan, nan, nan, nan, nan, nan, nan, nan, nan, nan,\n",
       "       nan, nan, nan, nan, nan, nan, nan, nan, nan, nan, nan, nan, nan,\n",
       "       nan, nan, nan, nan, nan, nan, nan, nan, nan, nan, nan, nan, nan,\n",
       "       nan, nan, nan, nan, nan, nan, nan, nan, nan, nan, nan, nan, nan,\n",
       "       nan, nan, nan, nan, nan, nan, nan, nan, nan, nan, nan, nan, nan,\n",
       "       nan, nan, nan])"
      ]
     },
     "execution_count": 30,
     "metadata": {},
     "output_type": "execute_result"
    }
   ],
   "source": [
    "z"
   ]
  },
  {
   "cell_type": "code",
   "execution_count": 15,
   "metadata": {},
   "outputs": [
    {
     "ename": "NameError",
     "evalue": "name 'z' is not defined",
     "output_type": "error",
     "traceback": [
      "\u001b[0;31m---------------------------------------------------------------------------\u001b[0m",
      "\u001b[0;31mNameError\u001b[0m                                 Traceback (most recent call last)",
      "\u001b[0;32m<ipython-input-15-5564efa9b9ee>\u001b[0m in \u001b[0;36m<module>\u001b[0;34m\u001b[0m\n\u001b[0;32m----> 1\u001b[0;31m \u001b[0mbrazil_df\u001b[0m\u001b[0;34m[\u001b[0m\u001b[0mz\u001b[0m \u001b[0;34m<\u001b[0m \u001b[0;36m1\u001b[0m\u001b[0;34m]\u001b[0m\u001b[0;34m.\u001b[0m\u001b[0mplot\u001b[0m\u001b[0;34m.\u001b[0m\u001b[0mbar\u001b[0m\u001b[0;34m(\u001b[0m\u001b[0mx\u001b[0m\u001b[0;34m=\u001b[0m\u001b[0;34m'date'\u001b[0m\u001b[0;34m,\u001b[0m\u001b[0my\u001b[0m\u001b[0;34m=\u001b[0m\u001b[0;34m'r_cases'\u001b[0m\u001b[0;34m)\u001b[0m\u001b[0;34m\u001b[0m\u001b[0;34m\u001b[0m\u001b[0m\n\u001b[0m\u001b[1;32m      2\u001b[0m \u001b[0mbrazil_df\u001b[0m\u001b[0;34m[\u001b[0m\u001b[0mz\u001b[0m \u001b[0;34m<\u001b[0m \u001b[0;36m1\u001b[0m\u001b[0;34m]\u001b[0m\u001b[0;34m.\u001b[0m\u001b[0mplot\u001b[0m\u001b[0;34m.\u001b[0m\u001b[0mbar\u001b[0m\u001b[0;34m(\u001b[0m\u001b[0mx\u001b[0m\u001b[0;34m=\u001b[0m\u001b[0;34m'date'\u001b[0m\u001b[0;34m,\u001b[0m\u001b[0my\u001b[0m\u001b[0;34m=\u001b[0m\u001b[0;34m'new_cases'\u001b[0m\u001b[0;34m)\u001b[0m\u001b[0;34m\u001b[0m\u001b[0;34m\u001b[0m\u001b[0m\n",
      "\u001b[0;31mNameError\u001b[0m: name 'z' is not defined"
     ]
    }
   ],
   "source": [
    "brazil_df[z < 1].plot.bar(x='date',y='r_cases')\n",
    "brazil_df[z < 1].plot.bar(x='date',y='new_cases')"
   ]
  },
  {
   "cell_type": "code",
   "execution_count": 20,
   "metadata": {},
   "outputs": [],
   "source": [
    "from seaborn import distplot, scatterplot"
   ]
  },
  {
   "cell_type": "code",
   "execution_count": 46,
   "metadata": {},
   "outputs": [
    {
     "data": {
      "text/plain": [
       "<matplotlib.axes._subplots.AxesSubplot at 0x7fa617b50f40>"
      ]
     },
     "execution_count": 46,
     "metadata": {},
     "output_type": "execute_result"
    },
    {
     "data": {
      "image/png": "[encoded data removed]",
      "text/plain": [
       "<Figure size 432x288 with 1 Axes>"
      ]
     },
     "metadata": {},
     "output_type": "display_data"
    }
   ],
   "source": [
    "scatterplot(x='date', y='total_cases',data=brazil_df)"
   ]
  },
  {
   "cell_type": "code",
   "execution_count": null,
   "metadata": {},
   "outputs": [],
   "source": []
  }
 ],
 "metadata": {
  "kernelspec": {
   "display_name": "Python 3.8.1 64-bit",
   "language": "python",
   "name": "python38164bit8fec8b2e50c24e0688de99551008136f"
  },
  "language_info": {
   "codemirror_mode": {
    "name": "ipython",
    "version": 3
   },
   "file_extension": ".py",
   "mimetype": "text/x-python",
   "name": "python",
   "nbconvert_exporter": "python",
   "pygments_lexer": "ipython3",
   "version": "3.8.2"
  }
 },
 "nbformat": 4,
 "nbformat_minor": 4
}
